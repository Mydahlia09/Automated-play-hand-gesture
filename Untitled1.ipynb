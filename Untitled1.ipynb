{
  "nbformat": 4,
  "nbformat_minor": 0,
  "metadata": {
    "colab": {
      "provenance": [],
      "toc_visible": true
    },
    "kernelspec": {
      "name": "python3",
      "display_name": "Python 3"
    },
    "language_info": {
      "name": "python"
    }
  },
  "cells": [
    {
      "cell_type": "markdown",
      "source": [
        "Nama : Dahlia\n",
        "Nim : 220741082\n",
        "Prodi : Ilkom\n",
        "Matkul : Data Besar"
      ],
      "metadata": {
        "id": "11oP134Vyi_Z"
      }
    },
    {
      "cell_type": "code",
      "source": [
        "pip install pyspark"
      ],
      "metadata": {
        "colab": {
          "base_uri": "https://localhost:8080/"
        },
        "id": "X5p5m-zWzCz_",
        "outputId": "c8cf4f0f-517f-41e0-cbaa-3ec868222807"
      },
      "execution_count": null,
      "outputs": [
        {
          "output_type": "stream",
          "name": "stdout",
          "text": [
            "Collecting pyspark\n",
            "  Downloading pyspark-3.5.0.tar.gz (316.9 MB)\n",
            "\u001b[2K     \u001b[90m━━━━━━━━━━━━━━━━━━━━━━━━━━━━━━━━━━━━━━━━\u001b[0m \u001b[32m316.9/316.9 MB\u001b[0m \u001b[31m4.9 MB/s\u001b[0m eta \u001b[36m0:00:00\u001b[0m\n",
            "\u001b[?25h  Preparing metadata (setup.py) ... \u001b[?25l\u001b[?25hdone\n",
            "Requirement already satisfied: py4j==0.10.9.7 in /usr/local/lib/python3.10/dist-packages (from pyspark) (0.10.9.7)\n",
            "Building wheels for collected packages: pyspark\n",
            "  Building wheel for pyspark (setup.py) ... \u001b[?25l\u001b[?25hdone\n",
            "  Created wheel for pyspark: filename=pyspark-3.5.0-py2.py3-none-any.whl size=317425344 sha256=6077a8f13328d72eaacbd3ce9be0d112b62f0ea1f3bc23fff9ba0dc64d61e22e\n",
            "  Stored in directory: /root/.cache/pip/wheels/41/4e/10/c2cf2467f71c678cfc8a6b9ac9241e5e44a01940da8fbb17fc\n",
            "Successfully built pyspark\n",
            "Installing collected packages: pyspark\n",
            "Successfully installed pyspark-3.5.0\n"
          ]
        }
      ]
    },
    {
      "cell_type": "code",
      "source": [
        "pip install findspark"
      ],
      "metadata": {
        "colab": {
          "base_uri": "https://localhost:8080/"
        },
        "id": "9yUiHVDnzYfZ",
        "outputId": "841c1f41-aad5-435f-a715-d35aeb9667de"
      },
      "execution_count": null,
      "outputs": [
        {
          "output_type": "stream",
          "name": "stdout",
          "text": [
            "Collecting findspark\n",
            "  Downloading findspark-2.0.1-py2.py3-none-any.whl (4.4 kB)\n",
            "Installing collected packages: findspark\n",
            "Successfully installed findspark-2.0.1\n"
          ]
        }
      ]
    },
    {
      "cell_type": "code",
      "source": [
        "import findspark\n",
        "findspark.init()\n",
        "findspark.find()\n",
        "from pyspark.sql import SparkSession\n",
        "from pyspark.sql import functions as F\n",
        "from pyspark.sql.functions import *"
      ],
      "metadata": {
        "id": "uCrUpSLAzwTw"
      },
      "execution_count": null,
      "outputs": []
    },
    {
      "cell_type": "code",
      "source": [
        "spark = SparkSession.builder.appName('Belajar transformasi kolom').config(\"spark.memory.offHeap.enabled\",\"true\").config(\"spark.memory.offHeap.size\",\"100g\").getOrCreate()"
      ],
      "metadata": {
        "id": "z6JZqxFvz1_i"
      },
      "execution_count": null,
      "outputs": []
    },
    {
      "cell_type": "code",
      "source": [
        "data = [['Agus','Fisika',100],['Windi','Fisika',200],\n",
        "        ['Budi','Biologi',200],['Dina','Fisika',200],\n",
        "        ['Bayu','Fisika',50],['Dedi','Biologi',500]]\n",
        "\n",
        "kolom = ['nama','jurusan','nilai']\n",
        "df = spark.createDataFrame(data,kolom)\n",
        "df.show()"
      ],
      "metadata": {
        "colab": {
          "base_uri": "https://localhost:8080/"
        },
        "id": "gzXx2-9bz_UX",
        "outputId": "e2986842-779d-4529-d03e-e8a76d80a01a"
      },
      "execution_count": null,
      "outputs": [
        {
          "output_type": "stream",
          "name": "stdout",
          "text": [
            "+-----+-------+-----+\n",
            "| nama|jurusan|nilai|\n",
            "+-----+-------+-----+\n",
            "| Agus| Fisika|  100|\n",
            "|Windi| Fisika|  200|\n",
            "| Budi|Biologi|  200|\n",
            "| Dina| Fisika|  200|\n",
            "| Bayu| Fisika|   50|\n",
            "| Dedi|Biologi|  500|\n",
            "+-----+-------+-----+\n",
            "\n"
          ]
        }
      ]
    },
    {
      "cell_type": "code",
      "source": [
        "df_update = df.withColumn('nilai', col('nilai') +100)\n",
        "df_update.show()\n",
        "df.show()"
      ],
      "metadata": {
        "colab": {
          "base_uri": "https://localhost:8080/"
        },
        "id": "6XNMUmAZ0GYn",
        "outputId": "c266ae73-ff28-4736-f95a-3b5451374fa2"
      },
      "execution_count": null,
      "outputs": [
        {
          "output_type": "stream",
          "name": "stdout",
          "text": [
            "+-----+-------+-----+\n",
            "| nama|jurusan|nilai|\n",
            "+-----+-------+-----+\n",
            "| Agus| Fisika|  200|\n",
            "|Windi| Fisika|  300|\n",
            "| Budi|Biologi|  300|\n",
            "| Dina| Fisika|  300|\n",
            "| Bayu| Fisika|  150|\n",
            "| Dedi|Biologi|  600|\n",
            "+-----+-------+-----+\n",
            "\n",
            "+-----+-------+-----+\n",
            "| nama|jurusan|nilai|\n",
            "+-----+-------+-----+\n",
            "| Agus| Fisika|  100|\n",
            "|Windi| Fisika|  200|\n",
            "| Budi|Biologi|  200|\n",
            "| Dina| Fisika|  200|\n",
            "| Bayu| Fisika|   50|\n",
            "| Dedi|Biologi|  500|\n",
            "+-----+-------+-----+\n",
            "\n"
          ]
        }
      ]
    },
    {
      "cell_type": "code",
      "source": [
        "df.withColumns(\n",
        "    {'nilai': F.col('nilai')+100,'jurusan': F.lit('umum')}\n",
        "    ).show()"
      ],
      "metadata": {
        "colab": {
          "base_uri": "https://localhost:8080/"
        },
        "id": "iCLBrdFi0LPX",
        "outputId": "b011bf5a-09f5-42d5-8770-9202241346d5"
      },
      "execution_count": null,
      "outputs": [
        {
          "output_type": "stream",
          "name": "stdout",
          "text": [
            "+-----+-------+-----+\n",
            "| nama|jurusan|nilai|\n",
            "+-----+-------+-----+\n",
            "| Agus|   umum|  200|\n",
            "|Windi|   umum|  300|\n",
            "| Budi|   umum|  300|\n",
            "| Dina|   umum|  300|\n",
            "| Bayu|   umum|  150|\n",
            "| Dedi|   umum|  600|\n",
            "+-----+-------+-----+\n",
            "\n"
          ]
        }
      ]
    },
    {
      "cell_type": "code",
      "source": [
        "df.withColumn('nilai_baru', F.col('nilai') +100).show()"
      ],
      "metadata": {
        "colab": {
          "base_uri": "https://localhost:8080/"
        },
        "id": "jTF08jX30P_r",
        "outputId": "3a87c672-c9f6-43e8-ff36-a9855b231617"
      },
      "execution_count": null,
      "outputs": [
        {
          "output_type": "stream",
          "name": "stdout",
          "text": [
            "+-----+-------+-----+----------+\n",
            "| nama|jurusan|nilai|nilai_baru|\n",
            "+-----+-------+-----+----------+\n",
            "| Agus| Fisika|  100|       200|\n",
            "|Windi| Fisika|  200|       300|\n",
            "| Budi|Biologi|  200|       300|\n",
            "| Dina| Fisika|  200|       300|\n",
            "| Bayu| Fisika|   50|       150|\n",
            "| Dedi|Biologi|  500|       600|\n",
            "+-----+-------+-----+----------+\n",
            "\n"
          ]
        }
      ]
    },
    {
      "cell_type": "code",
      "source": [
        "df1 = df.withColumn('nilai1', F.lit(100))\n",
        "df1.show()"
      ],
      "metadata": {
        "colab": {
          "base_uri": "https://localhost:8080/"
        },
        "id": "j8JIh0Vv0ZVR",
        "outputId": "ed56ff00-7851-4c8f-a1f0-b13edbc9b514"
      },
      "execution_count": null,
      "outputs": [
        {
          "output_type": "stream",
          "name": "stdout",
          "text": [
            "+-----+-------+-----+------+\n",
            "| nama|jurusan|nilai|nilai1|\n",
            "+-----+-------+-----+------+\n",
            "| Agus| Fisika|  100|   100|\n",
            "|Windi| Fisika|  200|   100|\n",
            "| Budi|Biologi|  200|   100|\n",
            "| Dina| Fisika|  200|   100|\n",
            "| Bayu| Fisika|   50|   100|\n",
            "| Dedi|Biologi|  500|   100|\n",
            "+-----+-------+-----+------+\n",
            "\n"
          ]
        }
      ]
    },
    {
      "cell_type": "code",
      "source": [
        "df.withColumns(\n",
        "    {'nilai_baru': F.col('nilai')+100,'jurusan_baru': F.lit('umum')}\n",
        "    ).show()"
      ],
      "metadata": {
        "colab": {
          "base_uri": "https://localhost:8080/"
        },
        "id": "6yPjbCQ70jrc",
        "outputId": "f1761381-223e-4d97-a34b-bb5679a5b18f"
      },
      "execution_count": null,
      "outputs": [
        {
          "output_type": "stream",
          "name": "stdout",
          "text": [
            "+-----+-------+-----+----------+------------+\n",
            "| nama|jurusan|nilai|nilai_baru|jurusan_baru|\n",
            "+-----+-------+-----+----------+------------+\n",
            "| Agus| Fisika|  100|       200|        umum|\n",
            "|Windi| Fisika|  200|       300|        umum|\n",
            "| Budi|Biologi|  200|       300|        umum|\n",
            "| Dina| Fisika|  200|       300|        umum|\n",
            "| Bayu| Fisika|   50|       150|        umum|\n",
            "| Dedi|Biologi|  500|       600|        umum|\n",
            "+-----+-------+-----+----------+------------+\n",
            "\n"
          ]
        }
      ]
    },
    {
      "cell_type": "code",
      "source": [
        "df1 = df.withColumn('nilai_total', col('nilai') +100)\n",
        "df1 = df1.drop('nilai')\n",
        "df1.show()"
      ],
      "metadata": {
        "colab": {
          "base_uri": "https://localhost:8080/"
        },
        "id": "4T4HRtWP0oUK",
        "outputId": "0701aef0-19f3-4d4a-b7ba-5c5ab6b21398"
      },
      "execution_count": null,
      "outputs": [
        {
          "output_type": "stream",
          "name": "stdout",
          "text": [
            "+-----+-------+-----------+\n",
            "| nama|jurusan|nilai_total|\n",
            "+-----+-------+-----------+\n",
            "| Agus| Fisika|        200|\n",
            "|Windi| Fisika|        300|\n",
            "| Budi|Biologi|        300|\n",
            "| Dina| Fisika|        300|\n",
            "| Bayu| Fisika|        150|\n",
            "| Dedi|Biologi|        600|\n",
            "+-----+-------+-----------+\n",
            "\n"
          ]
        }
      ]
    },
    {
      "cell_type": "code",
      "source": [
        "df1 = df.withColumns(\n",
        "    {'nilai_total': F.col('nilai'),'Asal_jurusan': F.col('Jurusan')})\n",
        "df1 = df1.drop('nilai').drop('jurusan')\n",
        "df1.show()"
      ],
      "metadata": {
        "colab": {
          "base_uri": "https://localhost:8080/"
        },
        "id": "b7Nno8Tl0xFU",
        "outputId": "e95b17db-6d5c-4583-87d3-7da25d000265"
      },
      "execution_count": null,
      "outputs": [
        {
          "output_type": "stream",
          "name": "stdout",
          "text": [
            "+-----+-----------+------------+\n",
            "| nama|nilai_total|Asal_jurusan|\n",
            "+-----+-----------+------------+\n",
            "| Agus|        100|      Fisika|\n",
            "|Windi|        200|      Fisika|\n",
            "| Budi|        200|     Biologi|\n",
            "| Dina|        200|      Fisika|\n",
            "| Bayu|         50|      Fisika|\n",
            "| Dedi|        500|     Biologi|\n",
            "+-----+-----------+------------+\n",
            "\n"
          ]
        }
      ]
    },
    {
      "cell_type": "code",
      "source": [
        "df.withColumnRenamed('nilai','nilai_total').show()"
      ],
      "metadata": {
        "colab": {
          "base_uri": "https://localhost:8080/"
        },
        "id": "Nw5P30HG0s1_",
        "outputId": "a0b5c3de-efa5-48e7-d7cd-728f5993f708"
      },
      "execution_count": null,
      "outputs": [
        {
          "output_type": "stream",
          "name": "stdout",
          "text": [
            "+-----+-------+-----------+\n",
            "| nama|jurusan|nilai_total|\n",
            "+-----+-------+-----------+\n",
            "| Agus| Fisika|        100|\n",
            "|Windi| Fisika|        200|\n",
            "| Budi|Biologi|        200|\n",
            "| Dina| Fisika|        200|\n",
            "| Bayu| Fisika|         50|\n",
            "| Dedi|Biologi|        500|\n",
            "+-----+-------+-----------+\n",
            "\n"
          ]
        }
      ]
    },
    {
      "cell_type": "markdown",
      "source": [
        "# New Section"
      ],
      "metadata": {
        "id": "teBfB7u53Rsg"
      }
    }
  ]
}